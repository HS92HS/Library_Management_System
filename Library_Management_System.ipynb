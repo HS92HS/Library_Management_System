{
 "cells": [
  {
   "attachments": {},
   "cell_type": "markdown",
   "metadata": {},
   "source": [
    "#                                   Library Management system"
   ]
  },
  {
   "cell_type": "code",
   "execution_count": 1,
   "metadata": {},
   "outputs": [
    {
     "name": "stdout",
     "output_type": "stream",
     "text": [
      "Enter 1 to Display books\n",
      "Enter 2 to lend a book\n",
      "Enter 3 to return a book\n",
      "Enter 4 to Quit\n",
      "Available books in library are : \n",
      "Harry Potter\n",
      "Nemisis\n",
      "Al-chemist\n",
      "Pride\n",
      "Biology\n",
      "Physics\n",
      "Chemistry\n",
      "Enter 1 to Display books\n",
      "Enter 2 to lend a book\n",
      "Enter 3 to return a book\n",
      "Enter 4 to Quit\n",
      "Available books in library are : \n",
      "Harry Potter\n",
      "Nemisis\n",
      "Al-chemist\n",
      "Pride\n",
      "Biology\n",
      "Physics\n",
      "Chemistry\n",
      "Enter 1 to Display books\n",
      "Enter 2 to lend a book\n",
      "Enter 3 to return a book\n",
      "Enter 4 to Quit\n",
      "Enter 1 to Display books\n",
      "Enter 2 to lend a book\n",
      "Enter 3 to return a book\n",
      "Enter 4 to Quit\n",
      "Enter 1 to Display books\n",
      "Enter 2 to lend a book\n",
      "Enter 3 to return a book\n",
      "Enter 4 to Quit\n",
      "Enter 1 to Display books\n",
      "Enter 2 to lend a book\n",
      "Enter 3 to return a book\n",
      "Enter 4 to Quit\n"
     ]
    },
    {
     "ename": "ValueError",
     "evalue": "invalid literal for int() with base 10: ''",
     "output_type": "error",
     "traceback": [
      "\u001b[1;31m---------------------------------------------------------------------------\u001b[0m",
      "\u001b[1;31mValueError\u001b[0m                                Traceback (most recent call last)",
      "Cell \u001b[1;32mIn[1], line 50\u001b[0m\n\u001b[0;32m     47\u001b[0m \u001b[39mprint\u001b[39m(\u001b[39m\"\u001b[39m\u001b[39mEnter 3 to return a book\u001b[39m\u001b[39m\"\u001b[39m)\n\u001b[0;32m     48\u001b[0m \u001b[39mprint\u001b[39m(\u001b[39m\"\u001b[39m\u001b[39mEnter 4 to Quit\u001b[39m\u001b[39m\"\u001b[39m)\n\u001b[1;32m---> 50\u001b[0m user_choice \u001b[39m=\u001b[39m \u001b[39mint\u001b[39;49m(\u001b[39minput\u001b[39;49m())\n\u001b[0;32m     51\u001b[0m \u001b[39mif\u001b[39;00m user_choice \u001b[39m==\u001b[39m \u001b[39m1\u001b[39m:\n\u001b[0;32m     52\u001b[0m     library\u001b[39m.\u001b[39mdisplay()\n",
      "\u001b[1;31mValueError\u001b[0m: invalid literal for int() with base 10: ''"
     ]
    },
    {
     "ename": "",
     "evalue": "",
     "output_type": "error",
     "traceback": [
      "\u001b[1;31mThe Kernel crashed while executing code in the the current cell or a previous cell. Please review the code in the cell(s) to identify a possible cause of the failure. Click <a href='https://aka.ms/vscodeJupyterKernelCrash'>here</a> for more info. View Jupyter <a href='command:jupyter.viewOutput'>log</a> for further details."
     ]
    }
   ],
   "source": [
    "\n",
    "\n",
    "class Library:\n",
    "    def __init__(self, list_of_books):\n",
    "        self.available_books = list_of_books\n",
    "    def display(self):\n",
    "        print(\"Available books in library are : \")\n",
    "        for book in self.available_books:\n",
    "            print(book)\n",
    "    def lend_book(self, requested_book):\n",
    "        if requested_book in self.available_books:\n",
    "            print(f\"You have now borrowed the book {requested_book}\")\n",
    "            self.available_books.remove(requested_book)\n",
    "        else:\n",
    "            print(\"We dont have that book\")\n",
    "    def add_book(self, book):\n",
    "        if book in self.available_books:\n",
    "            print(\"We have this book already!!\")\n",
    "\n",
    "        elif book not in self.available_books:\n",
    "            print(\"This book does'nt Belong to us!!\")\n",
    "            add = int(input(\"Do You want to Donate this book?\\n\"\n",
    "                \"Enter 1 to Yes.\\n\"\n",
    "                \"Enter 2 to No.\\n\"))\n",
    "            if add == 1:\n",
    "                self.available_books.append(book)\n",
    "                print(\"Your Book is donated successfully\")\n",
    "            elif add == 2:\n",
    "                print(\"Thankyou for coming!!\")\n",
    "\n",
    "class customer:\n",
    "    def request_book(self):\n",
    "        self.book = input(\"Enter the name of the Book : \")\n",
    "        return self.book\n",
    "    def return_book(self):\n",
    "        self.book = input(\"Enter the name of the Book : \")\n",
    "        return self.book\n",
    "\n",
    "\n",
    "\n",
    "\n",
    "library = Library([\"Harry Potter\", \"Nemisis\", \"Al-chemist\",\"Pride\", \"Biology\",\"Physics\",\"Chemistry\"])\n",
    "Customer = customer()\n",
    "\n",
    "\n",
    "while True:\n",
    "    print(\"Enter 1 to Display books\")\n",
    "    print(\"Enter 2 to lend a book\")\n",
    "    print(\"Enter 3 to return a book\")\n",
    "    print(\"Enter 4 to Quit\")\n",
    "\n",
    "    user_choice = int(input())\n",
    "    if user_choice == 1:\n",
    "        library.display()\n",
    "    elif user_choice == 2:\n",
    "        requested_book = Customer.request_book()\n",
    "        library.lend_book(requested_book)\n",
    "    elif user_choice == 3:\n",
    "        returned_book = Customer.return_book()\n",
    "        library.add_book(returned_book)\n",
    "    elif user_choice == 4:\n",
    "        quit()"
   ]
  }
 ],
 "metadata": {
  "kernelspec": {
   "display_name": "Python 3",
   "language": "python",
   "name": "python3"
  },
  "language_info": {
   "codemirror_mode": {
    "name": "ipython",
    "version": 3
   },
   "file_extension": ".py",
   "mimetype": "text/x-python",
   "name": "python",
   "nbconvert_exporter": "python",
   "pygments_lexer": "ipython3",
   "version": "3.11.2"
  },
  "orig_nbformat": 4,
  "vscode": {
   "interpreter": {
    "hash": "a5cda96636b30e269511e409ef69cdd5bbc9e0700412ba5870589e8a2d730db3"
   }
  }
 },
 "nbformat": 4,
 "nbformat_minor": 2
}
